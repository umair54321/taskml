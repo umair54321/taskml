{
 "cells": [
  {
   "cell_type": "markdown",
   "id": "72aa905d",
   "metadata": {},
   "source": [
    "# LAB TASK"
   ]
  },
  {
   "cell_type": "markdown",
   "id": "58736b84",
   "metadata": {},
   "source": [
    "# 1. Write a program that inputs a line of text. Output the text in uppercase letters and in lowercase letters using built-in functions."
   ]
  },
  {
   "cell_type": "code",
   "execution_count": 33,
   "id": "e08e2ea1",
   "metadata": {},
   "outputs": [
    {
     "name": "stdout",
     "output_type": "stream",
     "text": [
      "Enter a line of text: DAKFASD\n",
      "Uppercase:  DAKFASD\n",
      "Lowercase:  dakfasd\n"
     ]
    }
   ],
   "source": [
    "text = input(\"Enter a line of text: \")\n",
    "uppercase_text = text.upper()\n",
    "lowercase_text = text.lower()\n",
    "print(\"Uppercase: \", uppercase_text)\n",
    "print(\"Lowercase: \", lowercase_text)"
   ]
  },
  {
   "cell_type": "markdown",
   "id": "7f86401f",
   "metadata": {},
   "source": [
    "# 2. A simple way to estimate the number of words in a string is to count the number of spaces in the string. Write a program that asks the user for a string and returns an estimate of how many words are in the string"
   ]
  },
  {
   "cell_type": "code",
   "execution_count": 31,
   "id": "637141ab",
   "metadata": {},
   "outputs": [
    {
     "name": "stdout",
     "output_type": "stream",
     "text": [
      "4\n"
     ]
    }
   ],
   "source": [
    "string = \"this is my name\"\n",
    "word = string.count(\" \") + 1\n",
    "print(word)"
   ]
  },
  {
   "cell_type": "markdown",
   "id": "89a9c589",
   "metadata": {},
   "source": [
    "# 3.Write a program that asks the user to enter a string s and then converts s to lowercase, removes all the periods and commas from s, and prints the resulting string.(Hint: use the split method)\n"
   ]
  },
  {
   "cell_type": "code",
   "execution_count": 32,
   "id": "86073321",
   "metadata": {},
   "outputs": [
    {
     "name": "stdout",
     "output_type": "stream",
     "text": [
      "Enter a string: DSFFASD,FWE./ASDF\n",
      "Result:  dsffasdfwe/asdf\n"
     ]
    }
   ],
   "source": [
    "text = input(\"Enter a string: \")\n",
    "text = text.lower()\n",
    "text = text.replace('.', '')\n",
    "text = text.replace(',', '')\n",
    "print(\"Result: \", text)\n"
   ]
  },
  {
   "cell_type": "markdown",
   "id": "0919f888",
   "metadata": {},
   "source": [
    "# 4. A variable ids refers to the list [4353, 2314, 2956, 3382, 9362, 3900]. Using list methods, do the following:\n",
    "## a. Remove 3382 from the list.\n",
    "## b. Get the index of 9362.\n",
    "## c. Insert 4499 in the list after 9362.\n",
    "## d. Extend the list by adding [5566, 1830] to it.\n",
    "## e. Reverse the list.\n",
    "## f. Sort the list."
   ]
  },
  {
   "cell_type": "code",
   "execution_count": 62,
   "id": "0b44c9c2",
   "metadata": {},
   "outputs": [
    {
     "name": "stdout",
     "output_type": "stream",
     "text": [
      "[1830, 2314, 2956, 3900, 4353, 4499, 5566, 9362]\n"
     ]
    }
   ],
   "source": [
    "List = [4353, 2314, 2956, 3382, 9362, 3900]\n",
    "\n",
    "# Remove 3382 from the list.\n",
    "List.remove(3382)\n",
    "\n",
    "# Get the index of 9362.\n",
    "List.index(9362)\n",
    "\n",
    "# Insert 4499 in the list after 9362\n",
    "insert_num = List.insert(4,4499)\n",
    "\n",
    "# Extend the list by adding [5566, 1830] to it\n",
    "List.extend([5566, 1830])\n",
    "\n",
    "# Reverse the list.\n",
    "List.reverse()\n",
    "\n",
    "# Sort the list.\n",
    "List.sort()\n",
    "\n",
    "print(List)"
   ]
  },
  {
   "cell_type": "markdown",
   "id": "1eec9d71",
   "metadata": {},
   "source": [
    "# 5. When playing games where you have to roll two dice, it is nice to know the odds of each roll. For instance, the odds of rolling a 12 are about 3%, and the odds of rolling a 7 are about 17%. You can compute these mathematically, but if you don’t know the math, you can write a program to do it. To do this, your program should simulate rolling two dice about 10,000 times and compute and print out the percentage of rolls that come out to be 2, 3, 4, . . . , 12. Print the results in a table format."
   ]
  },
  {
   "cell_type": "code",
   "execution_count": 63,
   "id": "dd6e996c",
   "metadata": {},
   "outputs": [
    {
     "name": "stdout",
     "output_type": "stream",
     "text": [
      "Total\tSimulated Percent\n",
      "2\t2.92%\n",
      "3\t5.92%\n",
      "4\t8.08%\n",
      "5\t11.04%\n",
      "6\t14.23%\n",
      "7\t16.48%\n",
      "8\t13.45%\n",
      "9\t11.23%\n",
      "10\t8.34%\n",
      "11\t5.64%\n",
      "12\t2.67%\n"
     ]
    }
   ],
   "source": [
    "import random\n",
    "\n",
    "num_rolls = 10000\n",
    "results = [0] * 13\n",
    "\n",
    "for i in range(num_rolls):\n",
    "    dice1 = random.randint(1, 6)\n",
    "    dice2 = random.randint(1, 6)\n",
    "    roll_sum = dice1 + dice2\n",
    "    results[roll_sum] += 1\n",
    "\n",
    "print(\"Total\\tSimulated Percent\")\n",
    "for i in range(2, 13):\n",
    "    simulated_percent = (results[i] / num_rolls) * 100\n",
    "    print(f\"{i}\\t{simulated_percent:.2f}%\")\n"
   ]
  },
  {
   "cell_type": "markdown",
   "id": "0c68bb6d",
   "metadata": {},
   "source": [
    "# 6. Write a function each for mean, median and mode that accepts a list as an argument. The mean, median, and mode functions return an integer."
   ]
  },
  {
   "cell_type": "code",
   "execution_count": 76,
   "id": "db092eb9",
   "metadata": {},
   "outputs": [
    {
     "name": "stdout",
     "output_type": "stream",
     "text": [
      "5\n",
      "4\n",
      "2\n"
     ]
    }
   ],
   "source": [
    "def mean(numbers):\n",
    "    return sum(numbers) // len(numbers)\n",
    "\n",
    "def median(numbers):\n",
    "    numbers.sort()\n",
    "    if len(numbers) % 2 == 0:\n",
    "        middle1 = numbers[(len(numbers)-1)//2]\n",
    "        middle2 = numbers[(len(numbers)+1)//2]\n",
    "        return (middle1 + middle2) // 2\n",
    "    else:\n",
    "        return numbers[len(numbers)//2]\n",
    "\n",
    "def mode(numbers):\n",
    "    from collections import Counter\n",
    "    c = Counter(numbers)\n",
    "    return c.most_common(1)[0][0]\n",
    "\n",
    "numbers = [11,2,3,4,5]\n",
    "\n",
    "print(mean(numbers))\n",
    "print(median(numbers))\n",
    "print(mode(numbers))"
   ]
  },
  {
   "cell_type": "markdown",
   "id": "5e66cf17",
   "metadata": {},
   "source": [
    "# a. Using these functions, write a program that generates a 99-element list of random numbers between 1 and 100 (inclusive) and computes its mean, median, mode.\n"
   ]
  },
  {
   "cell_type": "code",
   "execution_count": 78,
   "id": "43cea08f",
   "metadata": {},
   "outputs": [
    {
     "name": "stdout",
     "output_type": "stream",
     "text": [
      "50\n",
      "50\n",
      "1\n"
     ]
    }
   ],
   "source": [
    "List = []\n",
    "for i in range(1,100):\n",
    "    List.append(i)\n",
    "numbers = List\n",
    "\n",
    "print(mean(numbers))\n",
    "print(median(numbers))\n",
    "print(mode(numbers))"
   ]
  },
  {
   "cell_type": "markdown",
   "id": "4a2c2b87",
   "metadata": {},
   "source": [
    "# 7.  Write a program that rotates the elements of a list so that the element at the first index moves to the second index, the element in the second index moves to the third index, etc., and the element in the last index moves to the first index"
   ]
  },
  {
   "cell_type": "code",
   "execution_count": 79,
   "id": "38257c9b",
   "metadata": {},
   "outputs": [
    {
     "name": "stdout",
     "output_type": "stream",
     "text": [
      "[4, 1, 2, 3]\n"
     ]
    }
   ],
   "source": [
    "def rotate_list(lst):\n",
    "    return lst[-1:] + lst[:-1]\n",
    "\n",
    "my_list = [1, 2, 3, 4]\n",
    "rotated_list = rotate_list(my_list)\n",
    "print(rotated_list)\n"
   ]
  },
  {
   "cell_type": "markdown",
   "id": "9ba1910f",
   "metadata": {},
   "source": [
    "# 8. Write a program that generates 100 random integers that are either 0 or 1. Then find the longest run of zeros, the largest number of zeros in a row. For instance, the longest run of zeros in [1,0,1,1,0,0,0,0,1,0,0] is 4."
   ]
  },
  {
   "cell_type": "code",
   "execution_count": 83,
   "id": "ad3db220",
   "metadata": {},
   "outputs": [
    {
     "name": "stdout",
     "output_type": "stream",
     "text": [
      "[0, 0, 0, 0, 1, 0, 1, 1, 0, 0, 1, 1, 0, 1, 0, 1, 0, 1, 0, 1, 0, 0, 0, 0, 0, 0, 1, 1, 1, 0, 0, 1, 1, 1, 1, 0, 0, 1, 0, 0, 0, 0, 1, 0, 1, 0, 0, 0, 0, 1, 1, 1, 1, 0, 0, 0, 1, 1, 0, 0, 1, 1, 0, 0, 0, 1, 1, 0, 0, 0, 1, 1, 0, 1, 1, 1, 0, 1, 0, 1, 1, 1, 0, 1, 1, 0, 1, 1, 0, 1, 0, 0, 1, 1, 0, 1, 1, 1, 1, 0]\n",
      "6\n"
     ]
    }
   ],
   "source": [
    "import random\n",
    "\n",
    "def longest_run_of_zeros(lst):\n",
    "    max_count = 0\n",
    "    count = 0\n",
    "    for num in lst:\n",
    "        if num == 0:\n",
    "            count += 1\n",
    "        else:\n",
    "            max_count = max(max_count, count)\n",
    "            count = 0\n",
    "    return max(max_count, count)\n",
    "\n",
    "random_list = [random.randint(0, 1) for _ in range(100)]\n",
    "print(random_list)\n",
    "longest_run = longest_run_of_zeros(random_list)\n",
    "print(longest_run)\n"
   ]
  },
  {
   "cell_type": "code",
   "execution_count": null,
   "id": "4ed5f4c5",
   "metadata": {},
   "outputs": [],
   "source": []
  }
 ],
 "metadata": {
  "kernelspec": {
   "display_name": "Python 3 (ipykernel)",
   "language": "python",
   "name": "python3"
  },
  "language_info": {
   "codemirror_mode": {
    "name": "ipython",
    "version": 3
   },
   "file_extension": ".py",
   "mimetype": "text/x-python",
   "name": "python",
   "nbconvert_exporter": "python",
   "pygments_lexer": "ipython3",
   "version": "3.9.13"
  }
 },
 "nbformat": 4,
 "nbformat_minor": 5
}
