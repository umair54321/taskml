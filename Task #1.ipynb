{
 "cells": [
  {
   "cell_type": "markdown",
   "id": "f36cebd9",
   "metadata": {},
   "source": [
    "# Lab Tasks:"
   ]
  },
  {
   "cell_type": "markdown",
   "id": "50b20e05",
   "metadata": {},
   "source": [
    " 1. Write a program in jupyter notebook, that prints on screen the message\n",
    "Hello, World.\n"
   ]
  },
  {
   "cell_type": "code",
   "execution_count": 1,
   "id": "540eac83",
   "metadata": {},
   "outputs": [
    {
     "name": "stdout",
     "output_type": "stream",
     "text": [
      "Hello world\n"
     ]
    }
   ],
   "source": [
    "print(\"Hello world\")"
   ]
  },
  {
   "cell_type": "markdown",
   "id": "6b628eba",
   "metadata": {},
   "source": [
    "2. Using the program in (1), what happens if we remove the closing quotation\n",
    "around the text Hello, World?"
   ]
  },
  {
   "cell_type": "code",
   "execution_count": 3,
   "id": "611b041f",
   "metadata": {},
   "outputs": [
    {
     "ename": "SyntaxError",
     "evalue": "EOL while scanning string literal (3474576738.py, line 1)",
     "output_type": "error",
     "traceback": [
      "\u001b[1;36m  File \u001b[1;32m\"C:\\Users\\GB\\AppData\\Local\\Temp\\ipykernel_9196\\3474576738.py\"\u001b[1;36m, line \u001b[1;32m1\u001b[0m\n\u001b[1;33m    print(\"Hello world)\u001b[0m\n\u001b[1;37m                       ^\u001b[0m\n\u001b[1;31mSyntaxError\u001b[0m\u001b[1;31m:\u001b[0m EOL while scanning string literal\n"
     ]
    }
   ],
   "source": [
    "print(\"Hello world)"
   ]
  },
  {
   "cell_type": "markdown",
   "id": "8a683328",
   "metadata": {},
   "source": [
    "3. Using the program in (1), what happens if we remove both the quotations\n",
    "around the text Hello, World? How is it different from the behavior in"
   ]
  },
  {
   "cell_type": "code",
   "execution_count": 4,
   "id": "46f01d16",
   "metadata": {},
   "outputs": [
    {
     "ename": "SyntaxError",
     "evalue": "invalid syntax (3449611317.py, line 1)",
     "output_type": "error",
     "traceback": [
      "\u001b[1;36m  File \u001b[1;32m\"C:\\Users\\GB\\AppData\\Local\\Temp\\ipykernel_9196\\3449611317.py\"\u001b[1;36m, line \u001b[1;32m1\u001b[0m\n\u001b[1;33m    print(Hello world)\u001b[0m\n\u001b[1;37m                ^\u001b[0m\n\u001b[1;31mSyntaxError\u001b[0m\u001b[1;31m:\u001b[0m invalid syntax\n"
     ]
    }
   ],
   "source": [
    "print(Hello world)"
   ]
  },
  {
   "cell_type": "markdown",
   "id": "85322b0b",
   "metadata": {},
   "source": [
    "4. Write a program using the print() command that produces the following\n",
    "output:\n",
    "                *\n",
    "                **\n",
    "                ***\n",
    "                ****\n",
    "                *****"
   ]
  },
  {
   "cell_type": "code",
   "execution_count": 4,
   "id": "5866783f",
   "metadata": {},
   "outputs": [
    {
     "name": "stdout",
     "output_type": "stream",
     "text": [
      "*\n",
      "**\n",
      "***\n",
      "****\n",
      "*****\n"
     ]
    }
   ],
   "source": [
    "print(\"*\")\n",
    "print(\"**\")\n",
    "print(\"***\")\n",
    "print(\"****\")\n",
    "print(\"*****\")"
   ]
  },
  {
   "cell_type": "code",
   "execution_count": null,
   "id": "e3e91db9",
   "metadata": {},
   "outputs": [],
   "source": []
  }
 ],
 "metadata": {
  "kernelspec": {
   "display_name": "Python 3 (ipykernel)",
   "language": "python",
   "name": "python3"
  },
  "language_info": {
   "codemirror_mode": {
    "name": "ipython",
    "version": 3
   },
   "file_extension": ".py",
   "mimetype": "text/x-python",
   "name": "python",
   "nbconvert_exporter": "python",
   "pygments_lexer": "ipython3",
   "version": "3.9.13"
  }
 },
 "nbformat": 4,
 "nbformat_minor": 5
}
