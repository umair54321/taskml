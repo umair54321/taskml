{
 "cells": [
  {
   "cell_type": "markdown",
   "id": "8b9cee2e",
   "metadata": {},
   "source": [
    "##                                       Lab Tasks\n"
   ]
  },
  {
   "cell_type": "raw",
   "id": "fc0aa10c",
   "metadata": {},
   "source": [
    "# 1. Which of the following expressions results in SyntaxErrors? Identify the syntax SyntaxErrors and type the reason of error along with the correct code by mentioning its sequence number.\n",
    "\n",
    "\n",
    "a. 6 * -----------8\n",
    "b. 8 = people\n",
    "c. ((((4 ** 3))))\n",
    "d. (-(-(-(-5))))\n",
    "e. 4 += 7 / 2"
   ]
  },
  {
   "cell_type": "code",
   "execution_count": 1,
   "id": "bf5c7fe7",
   "metadata": {},
   "outputs": [
    {
     "data": {
      "text/plain": [
       "48"
      ]
     },
     "execution_count": 1,
     "metadata": {},
     "output_type": "execute_result"
    }
   ],
   "source": [
    "6* ----8\n",
    "# this expression is valid in python"
   ]
  },
  {
   "cell_type": "code",
   "execution_count": 2,
   "id": "7a316602",
   "metadata": {},
   "outputs": [
    {
     "ename": "SyntaxError",
     "evalue": "cannot assign to literal (3231703690.py, line 1)",
     "output_type": "error",
     "traceback": [
      "\u001b[1;36m  File \u001b[1;32m\"C:\\Users\\GB\\AppData\\Local\\Temp\\ipykernel_6528\\3231703690.py\"\u001b[1;36m, line \u001b[1;32m1\u001b[0m\n\u001b[1;33m    8 = people\u001b[0m\n\u001b[1;37m    ^\u001b[0m\n\u001b[1;31mSyntaxError\u001b[0m\u001b[1;31m:\u001b[0m cannot assign to literal\n"
     ]
    }
   ],
   "source": [
    "8 = people\n",
    "# its result is a syntax error, because The error occurs because the equal sign (=) is used incorrectly.\n",
    "# In Python, the equal sign is used for variable assignment\n",
    "# corrected code is: \n",
    "people = 8"
   ]
  },
  {
   "cell_type": "code",
   "execution_count": null,
   "id": "493a15f4",
   "metadata": {},
   "outputs": [],
   "source": [
    "((((4 ** 3))))\n",
    "# This expression is valid in python"
   ]
  },
  {
   "cell_type": "code",
   "execution_count": null,
   "id": "df8a0573",
   "metadata": {},
   "outputs": [],
   "source": [
    " (-(-(-(-5))))\n",
    "# This expression is also valid in python"
   ]
  },
  {
   "cell_type": "code",
   "execution_count": null,
   "id": "6a035c9c",
   "metadata": {},
   "outputs": [],
   "source": [
    "4 += 7 / 2\n",
    "# This expression is not valid in python, \n",
    "# because the += operator is used incorrectly. \n",
    "# The += operator is used for augmented assignment, where the left-hand side must be a variable. \n",
    "# In this case,4 is not a variable but a constant value. To correct it, we can use a variable and modify it with the += operator:\n",
    "# corrected code is : x = 4; \n",
    "#                    x += 7 / 2\n",
    "\n"
   ]
  },
  {
   "cell_type": "markdown",
   "id": "2c61486c",
   "metadata": {},
   "source": [
    "# 2. Using only the techniques you have learned so far, write a program that calculates the square and cube of the numbers from 0 to 10 and uses tabs to print the following table of values:\n"
   ]
  },
  {
   "cell_type": "code",
   "execution_count": 55,
   "id": "18319f5f",
   "metadata": {},
   "outputs": [
    {
     "name": "stdout",
     "output_type": "stream",
     "text": [
      "number   square    cube\n",
      "0        0         0\n",
      "1        1         1\n",
      "2        4         8\n",
      "3        9         27\n",
      "4        16        64\n",
      "5        25        125\n",
      "6        36        216\n",
      "7        49        343\n",
      "8        64        512\n",
      "9        81        729\n",
      "10       100       1000\n"
     ]
    }
   ],
   "source": [
    "print(\"number \",\" square  \",\" cube\")\n",
    "print(0,\"      \",0**2,\"       \",0**3)\n",
    "print(1,\"      \",1**2,\"       \",1**3)\n",
    "print(2,\"      \",2**2,\"       \",2**3)\n",
    "print(3,\"      \",3**2,\"       \",3**3)\n",
    "print(4,\"      \",4**2,\"      \",4**3)\n",
    "print(5,\"      \",5**2,\"      \",5**3)\n",
    "print(6,\"      \",6**2,\"      \",6**3)\n",
    "print(7,\"      \",7**2,\"      \",7**3)\n",
    "print(8,\"      \",8**2,\"      \",8**3)\n",
    "print(9,\"      \",9**2,\"      \",9**3)\n",
    "print(10,\"     \",10**2,\"     \",10**3)\n",
    "\n"
   ]
  },
  {
   "cell_type": "markdown",
   "id": "e837557f",
   "metadata": {},
   "source": [
    "# 3. Write a program that assigns values to two variables and then swap their values. "
   ]
  },
  {
   "cell_type": "code",
   "execution_count": 56,
   "id": "b16318af",
   "metadata": {},
   "outputs": [
    {
     "name": "stdout",
     "output_type": "stream",
     "text": [
      "10\n",
      "5\n"
     ]
    }
   ],
   "source": [
    "a = 5\n",
    "b = 10\n",
    "\n",
    "c = b\n",
    "b = a\n",
    "a = c\n",
    "\n",
    "print(a)\n",
    "print(b)"
   ]
  },
  {
   "cell_type": "markdown",
   "id": "65f7da56",
   "metadata": {},
   "source": [
    "# 4. Write a program that inputs one five-digit number, generates its reverse and displays the reverse on screen. (Hint: Make use of the arithmetic operators modulus (%) and floor (// )\n"
   ]
  },
  {
   "cell_type": "code",
   "execution_count": 57,
   "id": "ab1ca454",
   "metadata": {},
   "outputs": [
    {
     "name": "stdout",
     "output_type": "stream",
     "text": [
      "Enter a number : 54352\n",
      "25345\n"
     ]
    }
   ],
   "source": [
    "num = int(input(\"Enter a number : \"))\n",
    "digit1 = num % 10\n",
    "digit2 = (num // 10) % 10\n",
    "digit3 = (num // 100) % 10\n",
    "digit4 = (num // 1000) % 10\n",
    "digit5 = (num // 10000) % 10\n",
    "\n",
    "reverse_num = (digit1 * 10000) + (digit2 * 1000) + (digit3 * 100) + (digit4 * 10) + digit5\n",
    "print(reverse_num)"
   ]
  },
  {
   "cell_type": "markdown",
   "id": "903719f2",
   "metadata": {},
   "source": [
    "# 5. Using whatever we have learned so far, write a program that prints a box, an oval, an arrow and a diamond as follows:\n"
   ]
  },
  {
   "cell_type": "code",
   "execution_count": 69,
   "id": "be3add93",
   "metadata": {},
   "outputs": [
    {
     "name": "stdout",
     "output_type": "stream",
     "text": [
      "*********         ***          *          *     \n",
      "*       *       *       *     ***       *  *    \n",
      "*       *      *        *    *****     *    *   \n",
      "*       *      *        *      *      *      *  \n",
      "*       *      *        *      *     *        * \n",
      "*       *      *        *      *      *      *  \n",
      "*       *      *        *      *       *    *   \n",
      "*       *       *      *       *        *  *    \n",
      "*********         ***          *         *      \n"
     ]
    }
   ],
   "source": [
    "print(\"*********         ***          *          *     \")\n",
    "print(\"*       *       *       *     ***       *  *    \")\n",
    "print(\"*       *      *        *    *****     *    *   \")\n",
    "print(\"*       *      *        *      *      *      *  \")\n",
    "print(\"*       *      *        *      *     *        * \")\n",
    "print(\"*       *      *        *      *      *      *  \")\n",
    "print(\"*       *      *        *      *       *    *   \")\n",
    "print(\"*       *       *      *       *        *  *    \")\n",
    "print(\"*********         ***          *         *      \")"
   ]
  },
  {
   "cell_type": "code",
   "execution_count": null,
   "id": "43a977e7",
   "metadata": {},
   "outputs": [],
   "source": [
    "a = int(input(\"Enter a base\"))\n",
    "b = int(input(\"Enter a Length\"))\n",
    "c = int(input(\"Enter a hypothesis\"))\n",
    "\n",
    "\n",
    "\n",
    "if a!=0 and b!=0 and c!=0:\n",
    "    if a**2 + b**2 == c**2 or a**2 + c**2 == b**2 or b**2 + c**2 == a**2:\n",
    "        print(\"The three integer are the side of a right triangle.\")\n",
    "    else:\n",
    "        print(\"The three integer are not the side of a right triangle.\")\n",
    "else:\n",
    "    print(\"All three ingtegers should be non Zero.\")"
   ]
  },
  {
   "cell_type": "markdown",
   "id": "f0facffd",
   "metadata": {},
   "source": [
    "# 7. Write a program to prompt for a score between 0.0 and 1.0. If the score is out of range, print an error message. If the score is between 0.0 and 1.0, print a grade using the following table:\n"
   ]
  },
  {
   "cell_type": "code",
   "execution_count": 54,
   "id": "3ac6413a",
   "metadata": {},
   "outputs": [
    {
     "name": "stdout",
     "output_type": "stream",
     "text": [
      "Enter a score between 0.0 and 1.0 :0.8\n",
      "B\n"
     ]
    }
   ],
   "source": [
    "score = float(input(\"Enter a score between 0.0 and 1.0 :\"))\n",
    "\n",
    "if score <=1:\n",
    "    if score >= 0.9:\n",
    "        print(\"A\")\n",
    "    elif score >= 0.8:\n",
    "        print(\"B\")\n",
    "    elif score>=0.7:\n",
    "        print(\"C\")\n",
    "    elif score>=0.6:\n",
    "        print(\"D\")\n",
    "    else:\n",
    "        print(\"F\")\n",
    "else:\n",
    "    print(\"Please enter a score between 0.0 and 1.0. \")"
   ]
  },
  {
   "cell_type": "markdown",
   "id": "a174c53a",
   "metadata": {},
   "source": [
    "# 8. Write a program that asks the user for an hour between 1 and 12, asks them to enter am orpm, and asks them how many hours into the future they want to go. Print out what the hour will be that many hours into the future, printing am or pm as appropriate. An example is shown below."
   ]
  },
  {
   "cell_type": "code",
   "execution_count": 21,
   "id": "9c11751a",
   "metadata": {},
   "outputs": [
    {
     "name": "stdout",
     "output_type": "stream",
     "text": [
      "Enter a hour between 1 and 12,: 7\n",
      "am (1) or pm (2), 2\n",
      "How many hours ahead? 6\n",
      "New hour 1 pm\n"
     ]
    }
   ],
   "source": [
    "hour = int(input(\"Enter a hour between 1 and 12,: \"))\n",
    "am_pm = int(input(\"am (1) or pm (2), \"))\n",
    "hours_ahead = int(input(\"How many hours ahead? \"))\n",
    "\n",
    "\n",
    "future_hour= (hour + hours_ahead) % 12\n",
    "\n",
    "if (am_pm == 1 and future_hour >= 12) or (am_pm == 2 and future_hour < 12) :\n",
    "    am_pm = \"pm\"\n",
    "else:\n",
    "    am_pm = \"am\"\n",
    "print(\"New hour\",future_hour,am_pm)\n"
   ]
  },
  {
   "cell_type": "markdown",
   "id": "6e1c8fbd",
   "metadata": {},
   "source": [
    "# 10. A palindrome is a number or a text phrase that reads the same backwards as forwards. For example, each of the following five-digit integers are palindromes: 12321, 55555, 45554 and 11611. Write a program that reads in a five-digit integer and determines whether or not it is a palindrome."
   ]
  },
  {
   "cell_type": "code",
   "execution_count": 52,
   "id": "5462381e",
   "metadata": {},
   "outputs": [
    {
     "name": "stdout",
     "output_type": "stream",
     "text": [
      "Enter a five-digit number : 18181\n",
      "18181  is a palindrome\n"
     ]
    }
   ],
   "source": [
    " num = int(input(\"Enter a five-digit number : \"))\n",
    "digit1 = num % 10\n",
    "digit2 = (num // 10) % 10\n",
    "digit3 = (num // 100) % 10\n",
    "digit4 = (num // 1000) % 10\n",
    "digit5 = (num // 10000) % 10\n",
    "\n",
    "reverse_num = (digit1 * 10000) + (digit2 * 1000) + (digit3 * 100) + (digit4 * 10) + digit5\n",
    "\n",
    "\n",
    "if reverse_num==num:\n",
    "    print(num,\" is a palindrome\")\n",
    "else:\n",
    "    print(num,\" is not a palindrome\")"
   ]
  }
 ],
 "metadata": {
  "kernelspec": {
   "display_name": "Python 3 (ipykernel)",
   "language": "python",
   "name": "python3"
  },
  "language_info": {
   "codemirror_mode": {
    "name": "ipython",
    "version": 3
   },
   "file_extension": ".py",
   "mimetype": "text/x-python",
   "name": "python",
   "nbconvert_exporter": "python",
   "pygments_lexer": "ipython3",
   "version": "3.9.13"
  }
 },
 "nbformat": 4,
 "nbformat_minor": 5
}
